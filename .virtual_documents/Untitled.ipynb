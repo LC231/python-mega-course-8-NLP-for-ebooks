


with open("miracle_in_the_andes.txt", "r", encoding="utf-8") as file:
    book = file.read()








book.count("Chapter")





import re


pattern = re.compile("Chapter [0-9]+")
findings = re.findall(pattern, book)
len(findings)





pattern = re.compile("[A-Z]{1}[^.]*[^a-zA-Z]+love[^a-zA-Z]+[^.]*.")
findings = re.findall(pattern,book)
findings





pattern = re.compile("[a-zA-Z]+")
findings = re.findall(pattern, book.lower())
findings[:5]


d = {}
for word in findings:
    if word in d.keys():
        d[word] = d[word] + 1
    else:
        d[word] = 1


d_list = [(value, key) for (key, value) in d.items()]
d_list = sorted(d_list, reverse = True)
d_list[:5]





from platform import python_version
python_version()


import nltk
nltk.download('stopwords')


import nltk
from nltk.corpus import stopwords
english_stopwords = stopwords.words("english")
english_stopwords


filtered_words = []
for count, word in d_list:
    if word not in english_stopwords:
        filtered_words.append((word, count))


filtered_words[:5]








from nltk.sentiment import SentimentIntensityAnalyzer


import nltk
nltk.download('vader_lexicon')


analyzer = SentimentIntensityAnalyzer()


scores = analyzer.polarity_scores("Hey, look how beautiful the trees are. I hate them. I really hate them")


if scores["pos"] > scores["neg"]:
    print("It is a positive text")
else:
    print("It is a negative text")


analyzer.polarity_scores(book)





import re
pattern = re.compile("Chapter [0-9]+")
chapters = re.split(pattern, book)


chapters = chapters[1:]


for nr, chapter in enumerate(chapters):
    scores = analyzer.polarity_scores(chapter)
    print(nr, scores)
